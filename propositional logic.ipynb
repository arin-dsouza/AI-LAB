{
  "nbformat": 4,
  "nbformat_minor": 0,
  "metadata": {
    "colab": {
      "provenance": [],
      "authorship_tag": "ABX9TyPo6r5HnrRXitpppCt6u5Qu",
      "include_colab_link": true
    },
    "kernelspec": {
      "name": "python3",
      "display_name": "Python 3"
    },
    "language_info": {
      "name": "python"
    }
  },
  "cells": [
    {
      "cell_type": "markdown",
      "metadata": {
        "id": "view-in-github",
        "colab_type": "text"
      },
      "source": [
        "<a href=\"https://colab.research.google.com/github/arin-dsouza/AI-LAB/blob/main/propositional%20logic.ipynb\" target=\"_parent\"><img src=\"https://colab.research.google.com/assets/colab-badge.svg\" alt=\"Open In Colab\"/></a>"
      ]
    },
    {
      "cell_type": "code",
      "execution_count": null,
      "metadata": {
        "id": "JPqDzdaBq8W0"
      },
      "outputs": [],
      "source": []
    },
    {
      "cell_type": "code",
      "source": [
        "# Define basic logical operations\n",
        "def AND(A, B):\n",
        "    return A and B\n",
        "\n",
        "def OR(A, B):\n",
        "    return A or B\n",
        "\n",
        "def NOT(A):\n",
        "    return not A\n",
        "\n",
        "def IMPLIES(A, B):\n",
        "    return not A or B\n",
        "\n",
        "def EQUIVALENT(A, B):\n",
        "    return A == B\n",
        "\n",
        "# Truth table generator\n",
        "def truth_table(formula, variables):\n",
        "    # Generate all combinations of truth values for variables\n",
        "    n = len(variables)\n",
        "    table = []\n",
        "    for i in range(2**n):\n",
        "        # Create the current row of the table\n",
        "        values = [bool(i & (1 << (n - 1 - j))) for j in range(n)]\n",
        "        row = dict(zip(variables, values))\n",
        "        row['Result'] = formula(**row)\n",
        "        table.append(row)\n",
        "    return table\n",
        "\n",
        "# Example formulas using the basic operations\n",
        "\n",
        "def formula_1(A, B):\n",
        "    # A AND (B OR NOT A)\n",
        "    return AND(A, OR(B, NOT(A)))\n",
        "\n",
        "def formula_2(A, B, C):\n",
        "    # (A AND B) -> C\n",
        "    return IMPLIES(AND(A, B), C)\n",
        "\n",
        "def formula_3(A, B):\n",
        "    # A <-> B\n",
        "    return EQUIVALENT(A, B)\n",
        "\n",
        "# Define the variables\n",
        "variables_1 = ['A', 'B']\n",
        "variables_2 = ['A', 'B', 'C']\n",
        "\n",
        "# Generate the truth tables for each formula\n",
        "table_1 = truth_table(formula_1, variables_1)\n",
        "table_2 = truth_table(formula_2, variables_2)\n",
        "table_3 = truth_table(formula_3, variables_1)\n",
        "\n",
        "# Print the truth tables\n",
        "print(\"Truth Table for Formula 1 (A AND (B OR NOT A)):\")\n",
        "for row in table_1:\n",
        "    print(row)\n",
        "\n",
        "print(\"\\nTruth Table for Formula 2 ((A AND B) -> C):\")\n",
        "for row in table_2:\n",
        "    print(row)\n",
        "\n",
        "print(\"\\nTruth Table for Formula 3 (A <-> B):\")\n",
        "for row in table_3:\n",
        "    print(row)\n"
      ],
      "metadata": {
        "colab": {
          "base_uri": "https://localhost:8080/"
        },
        "id": "xgRZ_Q25p3Bm",
        "outputId": "491ea4b7-f183-47a5-d176-8a2506a45b86"
      },
      "execution_count": 1,
      "outputs": [
        {
          "output_type": "stream",
          "name": "stdout",
          "text": [
            "Truth Table for Formula 1 (A AND (B OR NOT A)):\n",
            "{'A': False, 'B': False, 'Result': False}\n",
            "{'A': False, 'B': True, 'Result': False}\n",
            "{'A': True, 'B': False, 'Result': False}\n",
            "{'A': True, 'B': True, 'Result': True}\n",
            "\n",
            "Truth Table for Formula 2 ((A AND B) -> C):\n",
            "{'A': False, 'B': False, 'C': False, 'Result': True}\n",
            "{'A': False, 'B': False, 'C': True, 'Result': True}\n",
            "{'A': False, 'B': True, 'C': False, 'Result': True}\n",
            "{'A': False, 'B': True, 'C': True, 'Result': True}\n",
            "{'A': True, 'B': False, 'C': False, 'Result': True}\n",
            "{'A': True, 'B': False, 'C': True, 'Result': True}\n",
            "{'A': True, 'B': True, 'C': False, 'Result': False}\n",
            "{'A': True, 'B': True, 'C': True, 'Result': True}\n",
            "\n",
            "Truth Table for Formula 3 (A <-> B):\n",
            "{'A': False, 'B': False, 'Result': True}\n",
            "{'A': False, 'B': True, 'Result': False}\n",
            "{'A': True, 'B': False, 'Result': False}\n",
            "{'A': True, 'B': True, 'Result': True}\n"
          ]
        }
      ]
    }
  ]
}