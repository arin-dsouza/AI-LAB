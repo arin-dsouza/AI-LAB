{
  "nbformat": 4,
  "nbformat_minor": 0,
  "metadata": {
    "colab": {
      "provenance": [],
      "authorship_tag": "ABX9TyON6T8C2p2bBWngbvG+BkKY",
      "include_colab_link": true
    },
    "kernelspec": {
      "name": "python3",
      "display_name": "Python 3"
    },
    "language_info": {
      "name": "python"
    }
  },
  "cells": [
    {
      "cell_type": "markdown",
      "metadata": {
        "id": "view-in-github",
        "colab_type": "text"
      },
      "source": [
        "<a href=\"https://colab.research.google.com/github/arin-dsouza/AI-LAB/blob/main/simulated%20annealing.ipynb\" target=\"_parent\"><img src=\"https://colab.research.google.com/assets/colab-badge.svg\" alt=\"Open In Colab\"/></a>"
      ]
    },
    {
      "cell_type": "code",
      "execution_count": 1,
      "metadata": {
        "colab": {
          "base_uri": "https://localhost:8080/"
        },
        "id": "gwolsnzPo65w",
        "outputId": "77dae2ee-58a5-4a83-bc23-3bb1d8867007"
      },
      "outputs": [
        {
          "output_type": "stream",
          "name": "stdout",
          "text": [
            ". . Q . . . . .\n",
            ". . . . . . . Q\n",
            ". . . Q . . . .\n",
            ". . . . . . Q .\n",
            "Q . . . . . . .\n",
            ". . . . . Q . .\n",
            ". Q . . . . . .\n",
            ". . . . Q . . .\n"
          ]
        }
      ],
      "source": [
        "import random\n",
        "import math\n",
        "\n",
        "# Define the board size\n",
        "N = 8\n",
        "\n",
        "# Function to generate a random initial state\n",
        "def generate_initial_state():\n",
        "    return [random.randint(0, N-1) for _ in range(N)]\n",
        "\n",
        "# Function to calculate the number of attacking pairs of queens\n",
        "def calculate_attacks(state):\n",
        "    attacks = 0\n",
        "    for i in range(N):\n",
        "        for j in range(i+1, N):\n",
        "            if state[i] == state[j] or abs(state[i] - state[j]) == abs(i - j):\n",
        "                attacks += 1\n",
        "    return attacks\n",
        "\n",
        "# Function to perform a random move on the state (pick a queen and move it)\n",
        "def random_move(state):\n",
        "    new_state = state[:]\n",
        "    i = random.randint(0, N-1)\n",
        "    new_state[i] = random.randint(0, N-1)\n",
        "    return new_state\n",
        "\n",
        "# Simulated Annealing Algorithm\n",
        "def simulated_annealing():\n",
        "    current_state = generate_initial_state()\n",
        "    current_energy = calculate_attacks(current_state)\n",
        "    temperature = 10000\n",
        "    cooling_rate = 0.995\n",
        "    min_temperature = 1e-10\n",
        "\n",
        "    while temperature > min_temperature:\n",
        "        # Generate a neighbor by making a random move\n",
        "        new_state = random_move(current_state)\n",
        "        new_energy = calculate_attacks(new_state)\n",
        "\n",
        "        # If the new state is better (has fewer attacks), accept it\n",
        "        if new_energy < current_energy:\n",
        "            current_state = new_state\n",
        "            current_energy = new_energy\n",
        "        else:\n",
        "            # Otherwise, accept it with a certain probability based on the temperature\n",
        "            delta_energy = new_energy - current_energy\n",
        "            acceptance_probability = math.exp(-delta_energy / temperature)\n",
        "            if random.random() < acceptance_probability:\n",
        "                current_state = new_state\n",
        "                current_energy = new_energy\n",
        "\n",
        "        # Cool down the system\n",
        "        temperature *= cooling_rate\n",
        "\n",
        "    return current_state\n",
        "\n",
        "# Function to print the solution\n",
        "def print_solution(state):\n",
        "    for i in range(N):\n",
        "        row = ['Q' if state[i] == j else '.' for j in range(N)]\n",
        "        print(' '.join(row))\n",
        "\n",
        "# Run the simulated annealing algorithm\n",
        "solution = simulated_annealing()\n",
        "\n",
        "# Print the solution\n",
        "print_solution(solution)\n"
      ]
    },
    {
      "cell_type": "code",
      "source": [],
      "metadata": {
        "id": "xgRZ_Q25p3Bm"
      },
      "execution_count": 2,
      "outputs": []
    }
  ]
}