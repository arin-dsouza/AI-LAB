{
  "nbformat": 4,
  "nbformat_minor": 0,
  "metadata": {
    "colab": {
      "provenance": [],
      "authorship_tag": "ABX9TyP/2P2mpy0lJ3fBY9xVWiYd",
      "include_colab_link": true
    },
    "kernelspec": {
      "name": "python3",
      "display_name": "Python 3"
    },
    "language_info": {
      "name": "python"
    }
  },
  "cells": [
    {
      "cell_type": "markdown",
      "metadata": {
        "id": "view-in-github",
        "colab_type": "text"
      },
      "source": [
        "<a href=\"https://colab.research.google.com/github/arin-dsouza/AI-LAB/blob/main/simulated%20annealing.ipynb\" target=\"_parent\"><img src=\"https://colab.research.google.com/assets/colab-badge.svg\" alt=\"Open In Colab\"/></a>"
      ]
    },
    {
      "cell_type": "code",
      "execution_count": null,
      "metadata": {
        "id": "JPqDzdaBq8W0"
      },
      "outputs": [],
      "source": []
    },
    {
      "cell_type": "code",
      "source": [
        "import random\n",
        "import math\n",
        "\n",
        "# Define the board size\n",
        "N = 8\n",
        "\n",
        "# Function to generate a random initial state\n",
        "def generate_initial_state():\n",
        "    return [random.randint(0, N-1) for _ in range(N)]\n",
        "\n",
        "# Function to calculate the number of attacking pairs of queens\n",
        "def calculate_attacks(state):\n",
        "    attacks = 0\n",
        "    for i in range(N):\n",
        "        for j in range(i+1, N):\n",
        "            if state[i] == state[j] or abs(state[i] - state[j]) == abs(i - j):\n",
        "                attacks += 1\n",
        "    return attacks\n",
        "\n",
        "# Function to perform a random move on the state (pick a queen and move it)\n",
        "def random_move(state):\n",
        "    new_state = state[:]\n",
        "    i = random.randint(0, N-1)\n",
        "    new_state[i] = random.randint(0, N-1)\n",
        "    return new_state\n",
        "\n",
        "# Simulated Annealing Algorithm\n",
        "def simulated_annealing():\n",
        "    current_state = generate_initial_state()\n",
        "    current_energy = calculate_attacks(current_state)\n",
        "    temperature = 10000\n",
        "    cooling_rate = 0.995\n",
        "    min_temperature = 1e-10\n",
        "\n",
        "    # Display the initial state and its conflict count\n",
        "    print(\"Initial State:\")\n",
        "    print_solution(current_state)\n",
        "    print(f\"Initial Conflict State (Number of Attacking Pairs): {current_energy}\\n\")\n",
        "\n",
        "    while temperature > min_temperature:\n",
        "        # Generate a neighbor by making a random move\n",
        "        new_state = random_move(current_state)\n",
        "        new_energy = calculate_attacks(new_state)\n",
        "\n",
        "        # If the new state is better (has fewer attacks), accept it\n",
        "        if new_energy < current_energy:\n",
        "            current_state = new_state\n",
        "            current_energy = new_energy\n",
        "        else:\n",
        "            # Otherwise, accept it with a certain probability based on the temperature\n",
        "            delta_energy = new_energy - current_energy\n",
        "            acceptance_probability = math.exp(-delta_energy / temperature)\n",
        "            if random.random() < acceptance_probability:\n",
        "                current_state = new_state\n",
        "                current_energy = new_energy\n",
        "\n",
        "        # Cool down the system\n",
        "        temperature *= cooling_rate\n",
        "\n",
        "    return current_state\n",
        "\n",
        "# Function to print the board\n",
        "def print_solution(state):\n",
        "    for row in range(N):\n",
        "        # Create a row where each column is empty except for the column where the queen is\n",
        "        board_row = ['.' for _ in range(N)]\n",
        "        board_row[state[row]] = 'Q'  # Place a 'Q' in the correct column for the row\n",
        "        print(' '.join(board_row))\n",
        "\n",
        "# Run the simulated annealing algorithm\n",
        "solution = simulated_annealing()\n",
        "\n",
        "# Print the final solution\n",
        "print(\"\\nFinal Solution:\")\n",
        "print_solution(solution)\n",
        "final_conflict = calculate_attacks(solution)\n",
        "print(f\"Final Conflict State (Number of Attacking Pairs): {final_conflict}\")\n"
      ],
      "metadata": {
        "colab": {
          "base_uri": "https://localhost:8080/"
        },
        "id": "xgRZ_Q25p3Bm",
        "outputId": "878320a9-eda2-4f52-dc0f-e492c5be73a2"
      },
      "execution_count": 8,
      "outputs": [
        {
          "output_type": "stream",
          "name": "stdout",
          "text": [
            "Initial State:\n",
            ". . . . . . Q .\n",
            ". . . . Q . . .\n",
            ". . . . . . Q .\n",
            ". . . . Q . . .\n",
            ". . . . . . Q .\n",
            ". . . . . Q . .\n",
            ". Q . . . . . .\n",
            ". . . . Q . . .\n",
            "Initial Conflict State (Number of Attacking Pairs): 8\n",
            "\n",
            "\n",
            "Final Solution:\n",
            ". . . Q . . . .\n",
            ". . . . . . Q .\n",
            ". . Q . . . . .\n",
            ". . . . . . . Q\n",
            ". Q . . . . . .\n",
            ". . . . Q . . .\n",
            "Q . . . . . . .\n",
            ". . . . . Q . .\n",
            "Final Conflict State (Number of Attacking Pairs): 0\n"
          ]
        }
      ]
    }
  ]
}