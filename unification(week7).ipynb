{
  "nbformat": 4,
  "nbformat_minor": 0,
  "metadata": {
    "colab": {
      "provenance": [],
      "authorship_tag": "ABX9TyOB1UYACfl3ieUxqWvh87JN",
      "include_colab_link": true
    },
    "kernelspec": {
      "name": "python3",
      "display_name": "Python 3"
    },
    "language_info": {
      "name": "python"
    }
  },
  "cells": [
    {
      "cell_type": "markdown",
      "metadata": {
        "id": "view-in-github",
        "colab_type": "text"
      },
      "source": [
        "<a href=\"https://colab.research.google.com/github/arin-dsouza/AI-LAB/blob/main/unification(week7).ipynb\" target=\"_parent\"><img src=\"https://colab.research.google.com/assets/colab-badge.svg\" alt=\"Open In Colab\"/></a>"
      ]
    },
    {
      "cell_type": "code",
      "execution_count": 1,
      "metadata": {
        "colab": {
          "base_uri": "https://localhost:8080/"
        },
        "id": "wSNq0WFEqiPb",
        "outputId": "0cef5040-a55e-4678-ef69-985bb262b394"
      },
      "outputs": [
        {
          "output_type": "stream",
          "name": "stdout",
          "text": [
            "Unification successful!\n",
            "Substitution: {'john': 'X'}\n"
          ]
        }
      ],
      "source": [
        "# Function to check if an expression is a variable\n",
        "def is_variable(x):\n",
        "    return isinstance(x, str) and x.islower()\n",
        "\n",
        "# Function to apply a substitution to an expression\n",
        "def apply_substitution(term, substitution):\n",
        "    if is_variable(term):\n",
        "        return substitution.get(term, term)\n",
        "    elif isinstance(term, tuple):\n",
        "        # For compound terms (like predicates), apply substitution to each part\n",
        "        return tuple(apply_substitution(sub, substitution) for sub in term)\n",
        "    else:\n",
        "        return term\n",
        "\n",
        "# Unification function\n",
        "def unify(term1, term2, substitution=None):\n",
        "    if substitution is None:\n",
        "        substitution = {}\n",
        "\n",
        "    # Case 1: If both terms are the same\n",
        "    if term1 == term2:\n",
        "        return substitution\n",
        "\n",
        "    # Case 2: If one term is a variable and the other is not\n",
        "    if is_variable(term1):\n",
        "        return unify_variable(term1, term2, substitution)\n",
        "    elif is_variable(term2):\n",
        "        return unify_variable(term2, term1, substitution)\n",
        "\n",
        "    # Case 3: If both terms are compound (like predicates or functions)\n",
        "    if isinstance(term1, tuple) and isinstance(term2, tuple):\n",
        "        return unify(term1[1:], term2[1:], unify(term1[0], term2[0], substitution))\n",
        "\n",
        "    # If none of the above, unification fails\n",
        "    return None\n",
        "\n",
        "# Handle unification of a variable with a term\n",
        "def unify_variable(variable, term, substitution):\n",
        "    # If variable is already in the substitution, apply it\n",
        "    if variable in substitution:\n",
        "        return unify(apply_substitution(term, substitution), substitution[variable], substitution)\n",
        "    # Prevent recursive loops\n",
        "    if variable == term:\n",
        "        return substitution\n",
        "    # Add the substitution\n",
        "    substitution[variable] = term\n",
        "    return substitution\n",
        "\n",
        "# Example usage\n",
        "if __name__ == \"__main__\":\n",
        "    # Terms: Predicates and variables\n",
        "    p1 = ('father', 'X', 'Y')  # father(X, Y)\n",
        "    p2 = ('father', 'john', 'Y')  # father(john, Y)\n",
        "\n",
        "    # Unification result\n",
        "    result = unify(p1, p2)\n",
        "    if result is None:\n",
        "        print(\"Unification failed.\")\n",
        "    else:\n",
        "        print(\"Unification successful!\")\n",
        "        print(\"Substitution:\", result)\n"
      ]
    }
  ]
}