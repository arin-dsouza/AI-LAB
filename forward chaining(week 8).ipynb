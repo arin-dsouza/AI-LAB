{
  "nbformat": 4,
  "nbformat_minor": 0,
  "metadata": {
    "colab": {
      "provenance": [],
      "authorship_tag": "ABX9TyP5pa5b1JvGE4wiACF5ZNW+",
      "include_colab_link": true
    },
    "kernelspec": {
      "name": "python3",
      "display_name": "Python 3"
    },
    "language_info": {
      "name": "python"
    }
  },
  "cells": [
    {
      "cell_type": "markdown",
      "metadata": {
        "id": "view-in-github",
        "colab_type": "text"
      },
      "source": [
        "<a href=\"https://colab.research.google.com/github/arin-dsouza/AI-LAB/blob/main/forward%20chaining(week%208).ipynb\" target=\"_parent\"><img src=\"https://colab.research.google.com/assets/colab-badge.svg\" alt=\"Open In Colab\"/></a>"
      ]
    },
    {
      "cell_type": "code",
      "execution_count": 2,
      "metadata": {
        "colab": {
          "base_uri": "https://localhost:8080/"
        },
        "id": "yxt_CR-0qZ78",
        "outputId": "a65ac68f-60fb-4f19-ce6a-cd304272d51d"
      },
      "outputs": [
        {
          "output_type": "stream",
          "name": "stdout",
          "text": [
            "Derived Facts:\n",
            "- Weapon(T1)\n",
            "- Criminal(Robert)\n",
            "\n",
            "Conclusion: Robert is a Criminal.\n"
          ]
        }
      ],
      "source": [
        "# Define the facts and rules\n",
        "facts = {\n",
        "    \"American(Robert)\": True,\n",
        "    \"Hostile(A)\": True,\n",
        "    \"Missile(T1)\": True,\n",
        "    \"Owns(A, T1)\": True\n",
        "}\n",
        "\n",
        "rules = [\n",
        "    # Rule: If it's a missile, then it is a weapon\n",
        "    lambda facts: \"Weapon(T1)\" if \"Missile(T1)\" in facts and facts[\"Missile(T1)\"] else None,\n",
        "\n",
        "    # Rule: If Robert sells T1 to A, and A is hostile, and T1 is a weapon, and Robert is American, then Robert is a criminal\n",
        "    lambda facts: \"Criminal(Robert)\" if all([\n",
        "        \"American(Robert)\" in facts and facts[\"American(Robert)\"],\n",
        "        \"Weapon(T1)\" in facts and facts[\"Weapon(T1)\"],\n",
        "        \"Sells(Robert, T1, A)\" in facts and facts[\"Sells(Robert, T1, A)\"],\n",
        "        \"Hostile(A)\" in facts and facts[\"Hostile(A)\"]\n",
        "    ]) else None\n",
        "]\n",
        "\n",
        "# Derived facts based on rules\n",
        "derived_facts = []\n",
        "\n",
        "# Add an additional fact for \"Sells(Robert, T1, A)\" based on problem description\n",
        "facts[\"Sells(Robert, T1, A)\"] = True\n",
        "\n",
        "# Forward chaining loop\n",
        "while True:\n",
        "    new_fact_added = False\n",
        "    for rule in rules:\n",
        "        new_fact = rule(facts)\n",
        "        if new_fact and new_fact not in facts:\n",
        "            facts[new_fact] = True\n",
        "            derived_facts.append(new_fact)\n",
        "            new_fact_added = True\n",
        "    if not new_fact_added:\n",
        "        break\n",
        "\n",
        "# Print the derived facts\n",
        "print(\"Derived Facts:\")\n",
        "for fact in derived_facts:\n",
        "    print(f\"- {fact}\")\n",
        "\n",
        "# Final conclusion\n",
        "if \"Criminal(Robert)\" in facts and facts[\"Criminal(Robert)\"]:\n",
        "    print(\"\\nConclusion: Robert is a Criminal.\")\n",
        "else:\n",
        "    print(\"\\nConclusion: Unable to prove Robert is a Criminal.\")\n"
      ]
    }
  ]
}